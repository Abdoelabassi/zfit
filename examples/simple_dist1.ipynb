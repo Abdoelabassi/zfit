{
 "cells": [
  {
   "cell_type": "markdown",
   "metadata": {},
   "source": [
    "# Creating PDFs - a simple introduction"
   ]
  },
  {
   "cell_type": "code",
   "execution_count": 1,
   "metadata": {},
   "outputs": [
    {
     "name": "stdout",
     "output_type": "stream",
     "text": [
      "TensorFlow version: 1.12.0\n"
     ]
    }
   ],
   "source": [
    "import numpy as np\n",
    "import tensorflow as tf\n",
    "import matplotlib.pyplot as plt\n",
    "\n",
    "import zfit\n",
    "\n",
    "assert tf.executing_eagerly() == False\n",
    "print(\"TensorFlow version:\", tf.__version__)"
   ]
  },
  {
   "cell_type": "markdown",
   "metadata": {},
   "source": [
    "## Create the data\n",
    "To store and feed the data, a Dataset is the most comfortable way. While usually files can be used, here we use a numpy generated sample for convenience.\n",
    "\n",
    "Note here, that while the numpy code gets executed, everything else (the explicit converion, the loading of the file if we had one) is *not yet* executed but a graph is built."
   ]
  },
  {
   "cell_type": "code",
   "execution_count": 2,
   "metadata": {},
   "outputs": [
    {
     "name": "stderr",
     "output_type": "stream",
     "text": [
      "/home/jonas/anaconda3/envs/zfit36/lib/python3.6/site-packages/tensorflow/python/util/tf_inspect.py:75: DeprecationWarning: inspect.getargspec() is deprecated, use inspect.signature() or inspect.getfullargspec()\n",
      "  return _inspect.getargspec(target)\n"
     ]
    }
   ],
   "source": [
    "mu_true = 1.\n",
    "sigma_true = 3.52\n",
    "np_data = np.random.normal(mu_true, sigma_true, size=10000)\n",
    "dataset = tf.data.Dataset.from_tensors(tf.cast(np_data, dtype=tf.float64))\n",
    "\n",
    "# TODO: move the part below (maybe) inside out Dataset or something similar.\n",
    "data_iterator = dataset.make_one_shot_iterator()  # equal to: no chunksizge; give me the dataset as a whole\n",
    "data = data_iterator.get_next()  # next junk in a one-chunk iterator is trivial"
   ]
  },
  {
   "cell_type": "code",
   "execution_count": 3,
   "metadata": {},
   "outputs": [],
   "source": [
    "# HACK\n",
    "data = tf.convert_to_tensor(np_data)\n",
    "# HACK END"
   ]
  },
  {
   "cell_type": "markdown",
   "metadata": {},
   "source": [
    "## Create the PDF\n",
    "There are two ways of creating a pdf: use the provided ones or either define your own (see later/other examples). Here we gonna do the first approach.\n",
    "\n",
    "The parameters follow the RooFit convention with  \n",
    "`Parameter(name, initial_value, lower_limit (optional), upper_limit (optional))`"
   ]
  },
  {
   "cell_type": "code",
   "execution_count": 4,
   "metadata": {},
   "outputs": [],
   "source": [
    "mu = zfit.Parameter(\"mu\", 2.4, -1., 5.)\n",
    "sigma = zfit.Parameter(\"sigma\", 1.3, -1., 5.)"
   ]
  },
  {
   "cell_type": "markdown",
   "metadata": {},
   "source": [
    "Let's define our own gaussian (currently unnormalized) pdf"
   ]
  },
  {
   "cell_type": "code",
   "execution_count": 5,
   "metadata": {},
   "outputs": [],
   "source": [
    "class MyGauss(zfit.pdf.BasePDF):\n",
    "    def __init__(self, loc, scale, name=\"my_first_gauss\", **kwargs):  # any parameter names can be specified\n",
    "        super().__init__(loc=loc, scale=scale, name=name, **kwargs)\n",
    "        \n",
    "    def _unnormalized_prob(self, x):\n",
    "        loc = self.parameters['loc']\n",
    "        scale = self.parameters['scale']\n",
    "        return tf.exp(-0.5 * (loc - x) ** 2 / (scale ** 2))  # for example...\n"
   ]
  },
  {
   "cell_type": "markdown",
   "metadata": {},
   "source": [
    "... and let's use it or stick to the already implemented one"
   ]
  },
  {
   "cell_type": "code",
   "execution_count": 6,
   "metadata": {},
   "outputs": [],
   "source": [
    "use_our_own_gauss = False\n",
    "if use_our_own_gauss:\n",
    "    gauss1 = MyGauss(loc=mu, scale=sigma)\n",
    "else:\n",
    "    gauss1 = zfit.pdf.Gauss(mu=mu, sigma=sigma)"
   ]
  },
  {
   "cell_type": "markdown",
   "metadata": {},
   "source": [
    "The pdf 'gauss1' contains all the usefull functions associated with a pdf.\n",
    "It is important to note that the normalization range (`norm_range`) for the function always has to be specified *explicitely* (either in the function call, with a context manager or ...)\n",
    "\n",
    "Let's check out the probability:"
   ]
  },
  {
   "cell_type": "code",
   "execution_count": 7,
   "metadata": {},
   "outputs": [
    {
     "name": "stdout",
     "output_type": "stream",
     "text": [
      "WARNING:tensorflow:From /home/jonas/anaconda3/envs/zfit36/lib/python3.6/site-packages/tensorflow_probability/python/monte_carlo.py:161: calling reduce_mean (from tensorflow.python.ops.math_ops) with keep_dims is deprecated and will be removed in a future version.\n",
      "Instructions for updating:\n",
      "keep_dims is deprecated, use keepdims instead\n",
      "TensorFlow graph for probs Tensor(\"Gauss/model/truediv:0\", shape=(3,), dtype=float64)\n"
     ]
    }
   ],
   "source": [
    "small_constants = [1., 3., 5.]\n",
    "probs = gauss1.pdf(tf.constant(small_constants, dtype=tf.float64), norm_range=(-3, 5.1))\n",
    "print(\"TensorFlow graph for probs\", probs)"
   ]
  },
  {
   "cell_type": "markdown",
   "metadata": {},
   "source": [
    "(note here that we did *not yet* get our numerical result, but only a runnable graph)\n",
    "\n",
    "Let's run our first graph and have a look at the probapilities"
   ]
  },
  {
   "cell_type": "code",
   "execution_count": 8,
   "metadata": {},
   "outputs": [
    {
     "name": "stdout",
     "output_type": "stream",
     "text": [
      "x values: [1.0, 3.0, 5.0]\n",
      "result:   [0.17514629 0.28117981 0.0423303 ]\n"
     ]
    }
   ],
   "source": [
    "sess = tf.Session()\n",
    "init = tf.global_variables_initializer()  # TODO: make more comfortable this step\n",
    "sess.run(init)  # TODO: make more comfortable this step\n",
    "result = sess.run(probs)\n",
    "print(\"x values: {}\\nresult:   {}\".format(small_constants, result))\n",
    "# Notice here that prob for 1., 3. are the same as sigma is 2."
   ]
  },
  {
   "cell_type": "markdown",
   "metadata": {},
   "source": [
    "## Fitting and NLL\n",
    "As we have our probability at hand, we can use it for a loss function"
   ]
  },
  {
   "cell_type": "code",
   "execution_count": 9,
   "metadata": {
    "scrolled": true
   },
   "outputs": [],
   "source": [
    "nll = zfit.loss.UnbinnedNLL(gauss1, data, fit_range=(-5., 5.))"
   ]
  },
  {
   "cell_type": "code",
   "execution_count": 10,
   "metadata": {},
   "outputs": [],
   "source": [
    "from zfit.minimize import MinuitMinimizer\n",
    "minimizer = MinuitMinimizer(loss=nll)  # from TensorFlow"
   ]
  },
  {
   "cell_type": "code",
   "execution_count": 11,
   "metadata": {},
   "outputs": [
    {
     "name": "stdout",
     "output_type": "stream",
     "text": [
      "Minimizer created, start minimizing\n"
     ]
    }
   ],
   "source": [
    "print(\"Minimizer created, start minimizing\")"
   ]
  },
  {
   "cell_type": "code",
   "execution_count": 12,
   "metadata": {},
   "outputs": [
    {
     "name": "stderr",
     "output_type": "stream",
     "text": [
      "/home/jonas/Documents/physics/software/zfit_project/zfit_repo/zfit/minimizers/minimizer_minuit.py:61: InitialParamWarning: errordef is not given. Default to 1.\n",
      "  **error_limit_kwargs)\n"
     ]
    },
    {
     "data": {
      "text/html": [
       "<hr>"
      ]
     },
     "metadata": {},
     "output_type": "display_data"
    },
    {
     "data": {
      "text/html": [
       "<table>\n",
       "    <tr>\n",
       "        <td title=\"Minimum value of function\">FCN = 18672.73123998806</td>\n",
       "        <td title=\"Total number of call to FCN so far\">TOTAL NCALL = 82</td>\n",
       "        <td title=\"Number of call in last migrad\">NCALLS = 71</td>\n",
       "    </tr>\n",
       "    <tr>\n",
       "        <td title=\"Estimated distance to minimum\">EDM = 5488290191.113634</td>\n",
       "        <td title=\"Maximum EDM definition of convergence\">GOAL EDM = 1e-05</td>\n",
       "        <td title=\"Error def. Amount of increase in FCN to be defined as 1 standard deviation\">\n",
       "        UP = 1.0</td>\n",
       "    </tr>\n",
       "</table>\n",
       "<table>\n",
       "    <tr>\n",
       "        <td align=\"center\" title=\"Validity of the migrad call\">Valid</td>\n",
       "        <td align=\"center\" title=\"Validity of parameters\">Valid Param</td>\n",
       "        <td align=\"center\" title=\"Is Covariance matrix accurate?\">Accurate Covar</td>\n",
       "        <td align=\"center\" title=\"Positive definiteness of covariance matrix\">PosDef</td>\n",
       "        <td align=\"center\" title=\"Was covariance matrix made posdef by adding diagonal element\">Made PosDef</td>\n",
       "    </tr>\n",
       "    <tr>\n",
       "        <td align=\"center\" style=\"background-color:#FF7878\">False</td>\n",
       "        <td align=\"center\" style=\"background-color:#92CCA6\">True</td>\n",
       "        <td align=\"center\" style=\"background-color:#FF7878\">False</td>\n",
       "        <td align=\"center\" style=\"background-color:#FF7878\">False</td>\n",
       "        <td align=\"center\" style=\"background-color:#FF7878\">True</td>\n",
       "    </tr>\n",
       "    <tr>\n",
       "        <td align=\"center\" title=\"Was last hesse call fail?\">Hesse Fail</td>\n",
       "        <td align=\"center\" title=\"Validity of covariance\">HasCov</td>\n",
       "        <td align=\"center\" title=\"Is EDM above goal EDM?\">Above EDM</td>\n",
       "        <td align=\"center\"></td>\n",
       "        <td align=\"center\" title=\"Did last migrad call reach max call limit?\">Reach calllim</td>\n",
       "    </tr>\n",
       "    <tr>\n",
       "        <td align=\"center\" style=\"background-color:#92CCA6\">False</td>\n",
       "        <td align=\"center\" style=\"background-color:#92CCA6\">True</td>\n",
       "        <td align=\"center\" style=\"background-color:#FF7878\">True</td>\n",
       "        <td align=\"center\"></td>\n",
       "        <td align=\"center\" style=\"background-color:#92CCA6\">False</td>\n",
       "    </tr>\n",
       "</table>"
      ]
     },
     "metadata": {},
     "output_type": "display_data"
    },
    {
     "data": {
      "text/html": [
       "<table>\n",
       "    <tr>\n",
       "        <td><a href=\"#\" onclick=\"$('#rrRrQxQgiL').toggle()\">+</a></td>\n",
       "        <td title=\"Variable name\">Name</td>\n",
       "        <td title=\"Value of parameter\">Value</td>\n",
       "        <td title=\"Hesse error\">Hesse Error</td>\n",
       "        <td title=\"Minos lower error\">Minos Error-</td>\n",
       "        <td title=\"Minos upper error\">Minos Error+</td>\n",
       "        <td title=\"Lower limit of the parameter\">Limit-</td>\n",
       "        <td title=\"Upper limit of the parameter\">Limit+</td>\n",
       "        <td title=\"Is the parameter fixed in the fit\">Fixed?</td>\n",
       "    </tr>\n",
       "    <tr>\n",
       "        <td>0</td>\n",
       "        <td>mu:0</td>\n",
       "        <td>1.57885</td>\n",
       "        <td>1.07243e-05</td>\n",
       "        <td></td>\n",
       "        <td></td>\n",
       "        <td>-1</td>\n",
       "        <td>5</td>\n",
       "        <td>No</td>\n",
       "    </tr>\n",
       "    <tr>\n",
       "        <td>1</td>\n",
       "        <td>sigma:0</td>\n",
       "        <td>4.02903</td>\n",
       "        <td>0.208269</td>\n",
       "        <td></td>\n",
       "        <td></td>\n",
       "        <td>-1</td>\n",
       "        <td>5</td>\n",
       "        <td>No</td>\n",
       "    </tr>\n",
       "</table>\n",
       "<pre id=\"rrRrQxQgiL\" style=\"display:none;\">\n",
       "<textarea rows=\"10\" cols=\"50\" onclick=\"this.select()\" readonly>\n",
       "\\begin{tabular}{|c|r|r|r|r|r|r|r|c|}\n",
       "\\hline\n",
       " & Name & Value & Hesse Error & Minos Error- & Minos Error+ & Limit- & Limit+ & Fixed?\\\\\n",
       "\\hline\n",
       "0 & mu:0 & 1.57885 & 1.07243e-05 &  &  & -1.0 & 5 & No\\\\\n",
       "\\hline\n",
       "1 & sigma:0 & 4.02903 & 0.208269 &  &  & -1.0 & 5 & No\\\\\n",
       "\\hline\n",
       "\\end{tabular}\n",
       "</textarea>\n",
       "</pre>"
      ]
     },
     "metadata": {},
     "output_type": "display_data"
    },
    {
     "data": {
      "text/html": [
       "<hr>"
      ]
     },
     "metadata": {},
     "output_type": "display_data"
    },
    {
     "name": "stdout",
     "output_type": "stream",
     "text": [
      "Minimum: <zfit.minimizers.state.MinimizerState object at 0x7fee100f9828>\n"
     ]
    }
   ],
   "source": [
    "minimium = minimizer.minimize(sess=sess, params=[mu, sigma])\n",
    "print(\"Minimum:\", minimium)"
   ]
  },
  {
   "cell_type": "code",
   "execution_count": 13,
   "metadata": {},
   "outputs": [
    {
     "data": {
      "text/plain": [
       "<zfit.minimizers.state.MinimizerState at 0x7fee100f9828>"
      ]
     },
     "execution_count": 13,
     "metadata": {},
     "output_type": "execute_result"
    }
   ],
   "source": [
    "minimium"
   ]
  },
  {
   "cell_type": "code",
   "execution_count": 14,
   "metadata": {},
   "outputs": [
    {
     "name": "stdout",
     "output_type": "stream",
     "text": [
      "Fit:  mu = 1.5788, sigma = 4.0290\n",
      "True: mu = 1.0000, sigma = 3.5200\n"
     ]
    }
   ],
   "source": [
    "mu_val, sigma_val = sess.run([mu.value(), sigma.value()])\n",
    "print(\"Fit:  mu = {:.4f}, sigma = {:.4f}\".format(mu_val, sigma_val))\n",
    "print(\"True: mu = {:.4f}, sigma = {:.4f}\".format(mu_true, sigma_true))"
   ]
  },
  {
   "cell_type": "code",
   "execution_count": 15,
   "metadata": {},
   "outputs": [],
   "source": [
    "#stop here  # prevents session close (this raises error with invalid syntax)"
   ]
  },
  {
   "cell_type": "code",
   "execution_count": 16,
   "metadata": {},
   "outputs": [],
   "source": [
    "#sess.close()"
   ]
  },
  {
   "cell_type": "markdown",
   "metadata": {},
   "source": [
    "## Sampling\n",
    "An automatic accept-reject sampling (with garanteed no bias and linear speed in n_draws) is implemented. Let's call it:"
   ]
  },
  {
   "cell_type": "code",
   "execution_count": 17,
   "metadata": {},
   "outputs": [],
   "source": [
    "sample_gauss = gauss1.sample(n=int(1e6), limits=(-10, 10))\n",
    "sample_gauss_np = sess.run(sample_gauss)  # currently: n_draws not n_returned TODO"
   ]
  },
  {
   "cell_type": "code",
   "execution_count": null,
   "metadata": {},
   "outputs": [
    {
     "name": "stdout",
     "output_type": "stream",
     "text": [
      "Number of generated samples: 1\n"
     ]
    }
   ],
   "source": [
    "print(\"Number of generated samples:\", len(sample_gauss_np))\n",
    "_ = plt.hist(sample_gauss_np, bins=30)"
   ]
  },
  {
   "cell_type": "code",
   "execution_count": null,
   "metadata": {},
   "outputs": [],
   "source": [
    "plt.show()"
   ]
  },
  {
   "cell_type": "markdown",
   "metadata": {},
   "source": [
    "## Integrate\n",
    "Integration is also implemented. This is either normalized if a `norm_range` is specified or unnormalized if `norm_range` is False."
   ]
  },
  {
   "cell_type": "code",
   "execution_count": null,
   "metadata": {},
   "outputs": [],
   "source": [
    "integral_normalized = gauss1.integrate(limits=(-20, 20), norm_range=(-20, 20))\n",
    "integral_normalized_np = sess.run(integral_normalized)\n",
    "print(\"Normalized integral over whole normalization range (should be 1)\", integral_normalized_np)"
   ]
  },
  {
   "cell_type": "code",
   "execution_count": null,
   "metadata": {},
   "outputs": [],
   "source": [
    "integral_unnormalized = gauss1.integrate(limits=(-20, 20), norm_range=False)\n",
    "integral_unnormalized_np = sess.run(integral_unnormalized)\n",
    "print(\"Unnormalized integral\",\n",
    "      integral_unnormalized_np)"
   ]
  },
  {
   "cell_type": "code",
   "execution_count": null,
   "metadata": {},
   "outputs": [],
   "source": [
    "integral_normalized_small = gauss1.integrate(limits=(-1, 2), norm_range=(-5, 7))\n",
    "integral_normalized_small_np = sess.run(integral_normalized_small)\n",
    "print(\"normalized integral (expresses fraction)\",\n",
    "      integral_normalized_small_np)"
   ]
  },
  {
   "cell_type": "markdown",
   "metadata": {},
   "source": [
    "## Extend PDF\n",
    "Extending a pdf and changing the probability to a number probability can be done by setting the yield of the pdf.\n",
    "This does not only affect the `prob` function, but also any `integral` (given that a `norm_range` is specified! Otherwise, the yield is not applied)"
   ]
  },
  {
   "cell_type": "code",
   "execution_count": null,
   "metadata": {},
   "outputs": [],
   "source": [
    "yield1 = zfit.Parameter('yield', 42., 0., 100.)\n",
    "\n",
    "# needed to initialize the parameters TODO\n",
    "init = tf.global_variables_initializer()\n",
    "sess.run(init)  \n",
    "\n",
    "# set the yield\n",
    "print(\"Gauss is extended:\", gauss1.is_extended)\n",
    "gauss1.set_yield(yield1)  # using `None` means to unextendid again\n",
    "print(\"Gauss is extended:\", gauss1.is_extended)\n"
   ]
  },
  {
   "cell_type": "markdown",
   "metadata": {},
   "source": [
    "Doing the same integral as before:"
   ]
  },
  {
   "cell_type": "code",
   "execution_count": null,
   "metadata": {},
   "outputs": [],
   "source": [
    "integral_normalized_small = gauss1.integrate(limits=(-1, 2), norm_range=(-5, 7))\n",
    "integral_normalized_small_np = sess.run(integral_normalized_small)\n",
    "print(\"normalized integral (expresses fraction)\",\n",
    "      integral_normalized_small_np)"
   ]
  },
  {
   "cell_type": "markdown",
   "metadata": {},
   "source": [
    "## Building advanced pdfs"
   ]
  },
  {
   "cell_type": "code",
   "execution_count": null,
   "metadata": {},
   "outputs": [],
   "source": [
    "gauss1 = zfit.pdf.Gauss(mu, sigma)\n",
    "gauss2 = zfit.pdf.Gauss(mu, sigma)\n",
    "gauss3 = zfit.pdf.Gauss(mu, sigma)\n",
    "gauss4 = zfit.pdf.Gauss(mu=0.6, sigma=3.1)\n",
    "\n",
    "param1 = zfit.Parameter('param1', 0.3)\n",
    "param2 = zfit.Parameter('param1', 4.5)\n",
    "yield1 = zfit.Parameter('param1', 42.)"
   ]
  },
  {
   "cell_type": "code",
   "execution_count": null,
   "metadata": {},
   "outputs": [],
   "source": [
    "composite_param = zfit.core.parameter.ComposedParameter(name='composite1', tensor=param1 * yield1 **2 * 4.)\n",
    "gauss_comp_2var = zfit.pdf.Gauss(mu=param1, sigma=composite_param)\n",
    "gauss_comp_3var = zfit.pdf.Gauss(mu=param2, sigma=composite_param)"
   ]
  },
  {
   "cell_type": "code",
   "execution_count": null,
   "metadata": {},
   "outputs": [],
   "source": [
    "composite_param.get_dependents()"
   ]
  },
  {
   "cell_type": "code",
   "execution_count": null,
   "metadata": {},
   "outputs": [],
   "source": [
    "gauss_comp_2var.get_dependents()"
   ]
  },
  {
   "cell_type": "code",
   "execution_count": null,
   "metadata": {},
   "outputs": [],
   "source": [
    "gauss_comp_3var.get_dependents()"
   ]
  },
  {
   "cell_type": "code",
   "execution_count": null,
   "metadata": {},
   "outputs": [],
   "source": []
  },
  {
   "cell_type": "code",
   "execution_count": null,
   "metadata": {},
   "outputs": [],
   "source": [
    "gauss_sum_frac = param1 * gauss1 + gauss2\n",
    "#\n",
    "# or\n",
    "# gauss_sum_frac = zfit.pdf.SumPDF(pdfs=[gauss1, gauss2], fracs=[param1])\n",
    "\n",
    "gauss_sum_extended = yield1 * gauss3 + 55. * gauss4\n",
    "#\n",
    "# or\n",
    "# gauss3.set_yield(yield1), gauss4.set_yield(55.)\n",
    "# gauss_sum_frac = zfit.pdf.SumPDF(pdfs=[gauss3, gauss4])\n",
    "#\n",
    "# or\n",
    "# gauss_sum_frac = zfit.pdf.SumPDF(pdfs=[gauss1, gauss2])\n",
    "#\n",
    "# or\n",
    "# gauss_sum_frac = zfit.pdf.SumPDF(pdfs=[gauss1, gauss2], fracs=[yield1, 55.])"
   ]
  },
  {
   "cell_type": "code",
   "execution_count": null,
   "metadata": {},
   "outputs": [],
   "source": [
    "gauss_sum_frac.is_extended"
   ]
  },
  {
   "cell_type": "code",
   "execution_count": null,
   "metadata": {},
   "outputs": [],
   "source": [
    "gauss_sum_extended.is_extended"
   ]
  },
  {
   "cell_type": "markdown",
   "metadata": {},
   "source": [
    "## Functions"
   ]
  },
  {
   "cell_type": "code",
   "execution_count": null,
   "metadata": {},
   "outputs": [],
   "source": [
    "from zfit.models import functions\n",
    "func1 = functions.SimpleFunction(func=lambda x: x**2, n_dims=1)\n",
    "func2 = functions.SimpleFunction(func=lambda x: x**4, n_dims=1)\n",
    "func3 = functions.SimpleFunction(func=lambda x: x**6, n_dims=1)"
   ]
  },
  {
   "cell_type": "code",
   "execution_count": null,
   "metadata": {},
   "outputs": [],
   "source": [
    "func4 = param1 * func1"
   ]
  },
  {
   "cell_type": "code",
   "execution_count": null,
   "metadata": {},
   "outputs": [],
   "source": [
    "func5 = func4 + 3* func2 * func1"
   ]
  },
  {
   "cell_type": "code",
   "execution_count": null,
   "metadata": {},
   "outputs": [],
   "source": [
    "func6 = gauss2.as_func(norm_range=False)"
   ]
  },
  {
   "cell_type": "code",
   "execution_count": null,
   "metadata": {},
   "outputs": [],
   "source": [
    "pdf1 = func5.as_pdf()"
   ]
  }
 ],
 "metadata": {
  "kernelspec": {
   "display_name": "Python 3",
   "language": "python",
   "name": "python3"
  },
  "language_info": {
   "codemirror_mode": {
    "name": "ipython",
    "version": 3
   },
   "file_extension": ".py",
   "mimetype": "text/x-python",
   "name": "python",
   "nbconvert_exporter": "python",
   "pygments_lexer": "ipython3",
   "version": "3.6.6"
  }
 },
 "nbformat": 4,
 "nbformat_minor": 2
}
