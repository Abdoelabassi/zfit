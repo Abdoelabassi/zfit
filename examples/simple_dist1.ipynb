{
 "cells": [
  {
   "cell_type": "markdown",
   "metadata": {},
   "source": [
    "# Creating PDFs - a simple introduction"
   ]
  },
  {
   "cell_type": "code",
   "execution_count": 1,
   "metadata": {},
   "outputs": [
    {
     "name": "stdout",
     "output_type": "stream",
     "text": [
      "DEBUG, sorted dims (0,)\n",
      "DEBUG, sorted dims (0,)\n",
      "TensorFlow version: 1.10.0\n"
     ]
    }
   ],
   "source": [
    "import numpy as np\n",
    "import tensorflow as tf\n",
    "import matplotlib.pyplot as plt\n",
    "\n",
    "import zfit\n",
    "\n",
    "assert tf.executing_eagerly() == False\n",
    "print(\"TensorFlow version:\", tf.__version__)"
   ]
  },
  {
   "cell_type": "markdown",
   "metadata": {},
   "source": [
    "## Create the data\n",
    "To store and feed the data, a Dataset is the most comfortable way. While usually files can be used, here we use a numpy generated sample for convenience.\n",
    "\n",
    "Note here, that while the numpy code gets executed, everything else (the explicit converion, the loading of the file if we had one) is *not yet* executed but a graph is built."
   ]
  },
  {
   "cell_type": "code",
   "execution_count": 2,
   "metadata": {},
   "outputs": [
    {
     "name": "stderr",
     "output_type": "stream",
     "text": [
      "/home/jonas/anaconda3/envs/zfit36/lib/python3.6/site-packages/tensorflow/python/util/tf_inspect.py:75: DeprecationWarning: inspect.getargspec() is deprecated, use inspect.signature() or inspect.getfullargspec()\n",
      "  return _inspect.getargspec(target)\n"
     ]
    }
   ],
   "source": [
    "mu_true = 1.\n",
    "sigma_true = 3.52\n",
    "np_data = np.random.normal(mu_true, sigma_true, size=10000)\n",
    "dataset = tf.data.Dataset.from_tensors(tf.cast(np_data, dtype=tf.float64))\n",
    "\n",
    "# TODO: move the part below (maybe) inside out Dataset or something similar.\n",
    "data_iterator = dataset.make_one_shot_iterator()  # equal to: no chunksizge; give me the dataset as a whole\n",
    "data = data_iterator.get_next()  # next junk in a one-chunk iterator is trivial"
   ]
  },
  {
   "cell_type": "code",
   "execution_count": 3,
   "metadata": {},
   "outputs": [],
   "source": [
    "# HACK\n",
    "data = tf.convert_to_tensor(np_data)\n",
    "# HACK END"
   ]
  },
  {
   "cell_type": "markdown",
   "metadata": {},
   "source": [
    "## Create the PDF\n",
    "There are two ways of creating a pdf: use the provided ones or either define your own (see later/other examples). Here we gonna do the first approach.\n",
    "\n",
    "The parameters follow the RooFit convention with  \n",
    "`Parameter(name, initial_value, lower_limit (optional), upper_limit (optional))`"
   ]
  },
  {
   "cell_type": "code",
   "execution_count": null,
   "metadata": {},
   "outputs": [],
   "source": []
  },
  {
   "cell_type": "code",
   "execution_count": 4,
   "metadata": {},
   "outputs": [],
   "source": [
    "mu = zfit.FitParameter(\"mu\", 2.4, -1., 5., step_size=0.01)\n",
    "sigma = zfit.FitParameter(\"sigma\", 1.3, -1., 5., step_size=0.01)\n",
    "\n",
    "gauss1 = zfit.pdf.Gauss(mu=mu, sigma=sigma)\n",
    "gauss1._integration.draws_per_dim = 10000"
   ]
  },
  {
   "cell_type": "markdown",
   "metadata": {},
   "source": [
    "The pdf 'gauss1' contains all the usefull functions associated with a pdf.\n",
    "It is important to note that the normalization range (`norm_range`) for the function always has to be specified *explicitely* (either in the function call, with a context manager or ...)\n",
    "\n",
    "Let's check out the probability:"
   ]
  },
  {
   "cell_type": "code",
   "execution_count": 5,
   "metadata": {},
   "outputs": [
    {
     "name": "stdout",
     "output_type": "stream",
     "text": [
      "DEBUG, sorted dims (0,)\n",
      "DEBUG, max_dims, dims frozenset({0}) (0,)\n",
      "DEBUG, self._integrals, dims defaultdict(<class 'dict'>, {frozenset({0}): {((-inf, inf),): <function _gauss_integral_from_inf_to_inf at 0x7f9d386fd158>}}) frozenset({0})\n",
      "DEBUG:, tuple ((0.0, 5.1),)\n",
      "DEBUG: lower, upper ((0.0,),) ((5.1,),)\n",
      "DEBUG: lower, upper Tensor(\"Gauss/prob/Gauss_1/_hook_normalization/Gauss/integrate/Const:0\", shape=(1, 1), dtype=float64) Tensor(\"Gauss/prob/Gauss_1/_hook_normalization/Gauss/integrate/Const_1:0\", shape=(1, 1), dtype=float64)\n",
      "DEBUG, n_dims 1 (0,) 10000 <dtype: 'float64'>\n",
      "DEBUG, mc_sampler <function sample_halton_sequence at 0x7f9d2a06eb70>\n",
      "DEBUG, samples_normed Tensor(\"Gauss/prob/Gauss_1/_hook_normalization/Gauss/integrate/Reshape:0\", shape=(1, 10000, 1), dtype=float64)\n",
      "DEBUG, samples_normed Tensor(\"Gauss/prob/Gauss_1/_hook_normalization/Gauss/integrate/transpose:0\", shape=(1, 1, 10000), dtype=float64)\n",
      "DEBUG, self._integrals, dims defaultdict(<class 'dict'>, {frozenset({0}): {((-inf, inf),): <function _gauss_integral_from_inf_to_inf at 0x7f9d386fd158>}}) frozenset({0})\n",
      "DEBUG:, tuple ((0.0, 5.1),)\n",
      "DEBUG: lower, upper ((0.0,),) ((5.1,),)\n",
      "DEBUG: lower, upper Tensor(\"Gauss/prob/Gauss_1/_hook_normalization/Gauss/integrate/Gauss_1/numeric_integrate/Const:0\", shape=(1, 1), dtype=float64) Tensor(\"Gauss/prob/Gauss_1/_hook_normalization/Gauss/integrate/Gauss_1/numeric_integrate/Const_1:0\", shape=(1, 1), dtype=float64)\n",
      "DEBUG, n_dims 1 (0,) 10000 <dtype: 'float64'>\n",
      "DEBUG, mc_sampler <function sample_halton_sequence at 0x7f9d2a06eb70>\n",
      "DEBUG, samples_normed Tensor(\"Gauss/prob/Gauss_1/_hook_normalization/Gauss/integrate/Gauss_1/numeric_integrate/Reshape:0\", shape=(1, 10000, 1), dtype=float64)\n",
      "DEBUG, samples_normed Tensor(\"Gauss/prob/Gauss_1/_hook_normalization/Gauss/integrate/Gauss_1/numeric_integrate/transpose:0\", shape=(1, 1, 10000), dtype=float64)\n",
      "WARNING:tensorflow:From /home/jonas/anaconda3/envs/zfit36/lib/python3.6/site-packages/tensorflow_probability/python/monte_carlo.py:161: calling reduce_mean (from tensorflow.python.ops.math_ops) with keep_dims is deprecated and will be removed in a future version.\n",
      "Instructions for updating:\n",
      "keep_dims is deprecated, use keepdims instead\n",
      "DEBUG, avg Tensor(\"Gauss/prob/Gauss_1/_hook_normalization/Gauss/integrate/Gauss_1/numeric_integrate/expectation/Mean:0\", shape=(), dtype=float64)\n",
      "TensorFlow graph for probs Tensor(\"Gauss/prob/truediv:0\", shape=(3,), dtype=float64)\n"
     ]
    }
   ],
   "source": [
    "small_constants = [1., 3., 5.]\n",
    "probs = gauss1.prob(tf.constant(small_constants, dtype=tf.float64), norm_range=(0., 5.1))\n",
    "print(\"TensorFlow graph for probs\", probs)"
   ]
  },
  {
   "cell_type": "markdown",
   "metadata": {},
   "source": [
    "(note here that we did *not yet* get our numerical result, but only a runnable graph)\n",
    "\n",
    "Let's run our first graph and have a look at the probapilities"
   ]
  },
  {
   "cell_type": "code",
   "execution_count": 6,
   "metadata": {},
   "outputs": [
    {
     "name": "stdout",
     "output_type": "stream",
     "text": [
      "x values: [1.0, 3.0, 5.0]\n",
      "result:   [0.18114309 0.29080711 0.04377965]\n"
     ]
    }
   ],
   "source": [
    "sess = tf.Session()\n",
    "init = tf.global_variables_initializer()  # TODO: make more comfortable this step\n",
    "sess.run(init)  # TODO: make more comfortable this step\n",
    "result = sess.run(probs)\n",
    "print(\"x values: {}\\nresult:   {}\".format(small_constants, result))\n",
    "# Notice here that prob for 1., 3. are the same as sigma is 2."
   ]
  },
  {
   "cell_type": "markdown",
   "metadata": {},
   "source": [
    "## Fitting and NLL\n",
    "As we have our probability at hand, we can use it for a loss function"
   ]
  },
  {
   "cell_type": "code",
   "execution_count": 7,
   "metadata": {
    "scrolled": true
   },
   "outputs": [
    {
     "name": "stdout",
     "output_type": "stream",
     "text": [
      "DEBUG, sorted dims (0,)\n",
      "DEBUG, max_dims, dims frozenset({0}) (0,)\n",
      "DEBUG, self._integrals, dims defaultdict(<class 'dict'>, {frozenset({0}): {((-inf, inf),): <function _gauss_integral_from_inf_to_inf at 0x7f9d386fd158>}}) frozenset({0})\n",
      "DEBUG:, tuple ((-50.0, 50.0),)\n",
      "DEBUG: lower, upper ((-50.0,),) ((50.0,),)\n",
      "DEBUG: lower, upper Tensor(\"Gauss_1/prob/Gauss_1/_hook_normalization/Gauss/integrate/Const:0\", shape=(1, 1), dtype=float64) Tensor(\"Gauss_1/prob/Gauss_1/_hook_normalization/Gauss/integrate/Const_1:0\", shape=(1, 1), dtype=float64)\n",
      "DEBUG, n_dims 1 (0,) 10000 <dtype: 'float64'>\n",
      "DEBUG, mc_sampler <function sample_halton_sequence at 0x7f9d2a06eb70>\n",
      "DEBUG, samples_normed Tensor(\"Gauss_1/prob/Gauss_1/_hook_normalization/Gauss/integrate/Reshape:0\", shape=(1, 10000, 1), dtype=float64)\n",
      "DEBUG, samples_normed Tensor(\"Gauss_1/prob/Gauss_1/_hook_normalization/Gauss/integrate/transpose:0\", shape=(1, 1, 10000), dtype=float64)\n",
      "DEBUG, self._integrals, dims defaultdict(<class 'dict'>, {frozenset({0}): {((-inf, inf),): <function _gauss_integral_from_inf_to_inf at 0x7f9d386fd158>}}) frozenset({0})\n",
      "DEBUG:, tuple ((-50.0, 50.0),)\n",
      "DEBUG: lower, upper ((-50.0,),) ((50.0,),)\n",
      "DEBUG: lower, upper Tensor(\"Gauss_1/prob/Gauss_1/_hook_normalization/Gauss/integrate/Gauss_1/numeric_integrate/Const:0\", shape=(1, 1), dtype=float64) Tensor(\"Gauss_1/prob/Gauss_1/_hook_normalization/Gauss/integrate/Gauss_1/numeric_integrate/Const_1:0\", shape=(1, 1), dtype=float64)\n",
      "DEBUG, n_dims 1 (0,) 10000 <dtype: 'float64'>\n",
      "DEBUG, mc_sampler <function sample_halton_sequence at 0x7f9d2a06eb70>\n",
      "DEBUG, samples_normed Tensor(\"Gauss_1/prob/Gauss_1/_hook_normalization/Gauss/integrate/Gauss_1/numeric_integrate/Reshape:0\", shape=(1, 10000, 1), dtype=float64)\n",
      "DEBUG, samples_normed Tensor(\"Gauss_1/prob/Gauss_1/_hook_normalization/Gauss/integrate/Gauss_1/numeric_integrate/transpose:0\", shape=(1, 1, 10000), dtype=float64)\n",
      "DEBUG, avg Tensor(\"Gauss_1/prob/Gauss_1/_hook_normalization/Gauss/integrate/Gauss_1/numeric_integrate/expectation/Mean:0\", shape=(), dtype=float64)\n"
     ]
    }
   ],
   "source": [
    "nll = zfit.unbinned_nll(gauss1.prob(data, norm_range=(-50., 50.)))"
   ]
  },
  {
   "cell_type": "code",
   "execution_count": 15,
   "metadata": {},
   "outputs": [],
   "source": [
    "from zfit.core.minimizer import AdamMinimizer\n",
    "minimizer = AdamMinimizer(sess=sess, tolerance=0.2, learning_rate=0.3, beta1=0.9, beta2=0.99)  # from TensorFlow"
   ]
  },
  {
   "cell_type": "code",
   "execution_count": 16,
   "metadata": {},
   "outputs": [
    {
     "name": "stdout",
     "output_type": "stream",
     "text": [
      "Minimizer created, start minimizing\n"
     ]
    }
   ],
   "source": [
    "print(\"Minimizer created, start minimizing\")"
   ]
  },
  {
   "cell_type": "code",
   "execution_count": 17,
   "metadata": {},
   "outputs": [
    {
     "name": "stdout",
     "output_type": "stream",
     "text": [
      "Minimum: 26762.945478199214\n"
     ]
    }
   ],
   "source": [
    "minimium = minimizer.minimize(nll, var_list=[mu, sigma])\n",
    "print(\"Minimum:\", minimium)"
   ]
  },
  {
   "cell_type": "code",
   "execution_count": 19,
   "metadata": {},
   "outputs": [
    {
     "name": "stdout",
     "output_type": "stream",
     "text": [
      "Fit:  mu = 0.9739, sigma = 3.5160\n",
      "True: mu = 1.0000, sigma = 3.5200\n"
     ]
    }
   ],
   "source": [
    "mu_val, sigma_val = sess.run([mu.value(), sigma.value()])\n",
    "print(\"Fit:  mu = {:.4f}, sigma = {:.4f}\".format(mu_val, sigma_val))\n",
    "print(\"True: mu = {:.4f}, sigma = {:.4f}\".format(mu_true, sigma_true))"
   ]
  },
  {
   "cell_type": "code",
   "execution_count": 22,
   "metadata": {},
   "outputs": [],
   "source": [
    "# TODO: values are a little bit off...\n",
    "#stop here  # prevents session close (this raises error with invalid syntax)"
   ]
  },
  {
   "cell_type": "code",
   "execution_count": null,
   "metadata": {},
   "outputs": [],
   "source": [
    "#sess.close()"
   ]
  },
  {
   "cell_type": "markdown",
   "metadata": {},
   "source": [
    "## Sampling\n",
    "An automatic accept-reject sampling (with garanteed no bias and linear in speed) is implemented. Let's invoke it:"
   ]
  },
  {
   "cell_type": "code",
   "execution_count": 43,
   "metadata": {},
   "outputs": [
    {
     "name": "stdout",
     "output_type": "stream",
     "text": [
      "DEBUG, sorted dims (0,)\n",
      "DEBUG:, tuple ((-10, 10),)\n"
     ]
    }
   ],
   "source": [
    "sample_gauss = gauss1.sample(n_draws=int(1e7), limits=(-10, 10))\n",
    "sample_gauss_np = sess.run(sample_gauss)  # currently: n_draws not n_returned TODO"
   ]
  },
  {
   "cell_type": "code",
   "execution_count": 46,
   "metadata": {},
   "outputs": [
    {
     "name": "stdout",
     "output_type": "stream",
     "text": [
      "Number of generated samples: 4379217\n"
     ]
    },
    {
     "data": {
      "image/png": "[encoded data removed]",
      "text/plain": [
       "<Figure size 432x288 with 1 Axes>"
      ]
     },
     "metadata": {
      "needs_background": "light"
     },
     "output_type": "display_data"
    }
   ],
   "source": [
    "print(\"Number of generated samples:\", len(sample_gauss_np))\n",
    "_ = plt.hist(sample_gauss_np, bins=30)"
   ]
  },
  {
   "cell_type": "markdown",
   "metadata": {},
   "source": [
    "## Integrate\n",
    "Integration is also implemented. This is either normalized if a `norm_range` is specified or unnormalized if `norm_range` is False."
   ]
  },
  {
   "cell_type": "code",
   "execution_count": 47,
   "metadata": {},
   "outputs": [
    {
     "name": "stdout",
     "output_type": "stream",
     "text": [
      "DEBUG, sorted dims (0,)\n",
      "DEBUG, sorted dims (0,)\n",
      "DEBUG, max_dims, dims frozenset({0}) (0,)\n",
      "DEBUG, self._integrals, dims defaultdict(<class 'dict'>, {frozenset({0}): {((-inf, inf),): <function _gauss_integral_from_inf_to_inf at 0x7f9d386fd158>}}) frozenset({0})\n",
      "DEBUG:, tuple ((-20, 20),)\n",
      "DEBUG: lower, upper ((-20,),) ((20,),)\n",
      "DEBUG: lower, upper Tensor(\"Gauss_15/integrate/Const:0\", shape=(1, 1), dtype=float64) Tensor(\"Gauss_15/integrate/Const_1:0\", shape=(1, 1), dtype=float64)\n",
      "DEBUG, n_dims 1 (0,) 10000 <dtype: 'float64'>\n",
      "DEBUG, mc_sampler <function sample_halton_sequence at 0x7f9d2a06eb70>\n",
      "DEBUG, samples_normed Tensor(\"Gauss_15/integrate/Reshape:0\", shape=(1, 10000, 1), dtype=float64)\n",
      "DEBUG, samples_normed Tensor(\"Gauss_15/integrate/transpose:0\", shape=(1, 1, 10000), dtype=float64)\n",
      "DEBUG, self._integrals, dims defaultdict(<class 'dict'>, {frozenset({0}): {((-inf, inf),): <function _gauss_integral_from_inf_to_inf at 0x7f9d386fd158>}}) frozenset({0})\n",
      "DEBUG:, tuple ((-20, 20),)\n",
      "DEBUG: lower, upper ((-20,),) ((20,),)\n",
      "DEBUG: lower, upper Tensor(\"Gauss_15/integrate/Gauss_2/numeric_integrate/Const:0\", shape=(1, 1), dtype=float64) Tensor(\"Gauss_15/integrate/Gauss_2/numeric_integrate/Const_1:0\", shape=(1, 1), dtype=float64)\n",
      "DEBUG, n_dims 1 (0,) 10000 <dtype: 'float64'>\n",
      "DEBUG, mc_sampler <function sample_halton_sequence at 0x7f9d2a06eb70>\n",
      "DEBUG, samples_normed Tensor(\"Gauss_15/integrate/Gauss_2/numeric_integrate/Reshape:0\", shape=(1, 10000, 1), dtype=float64)\n",
      "DEBUG, samples_normed Tensor(\"Gauss_15/integrate/Gauss_2/numeric_integrate/transpose:0\", shape=(1, 1, 10000), dtype=float64)\n",
      "DEBUG, avg Tensor(\"Gauss_15/integrate/Gauss_2/numeric_integrate/expectation/Mean:0\", shape=(), dtype=float64)\n",
      "DEBUG:, tuple ((-20, 20),)\n",
      "DEBUG: lower, upper ((-20,),) ((20,),)\n",
      "DEBUG: lower, upper Tensor(\"Gauss_15/integrate/Gauss_3/numeric_integrate_normalization/Const:0\", shape=(1, 1), dtype=float64) Tensor(\"Gauss_15/integrate/Gauss_3/numeric_integrate_normalization/Const_1:0\", shape=(1, 1), dtype=float64)\n",
      "DEBUG, n_dims 1 (0,) 10000 <dtype: 'float64'>\n",
      "DEBUG, mc_sampler <function sample_halton_sequence at 0x7f9d2a06eb70>\n",
      "DEBUG, samples_normed Tensor(\"Gauss_15/integrate/Gauss_3/numeric_integrate_normalization/Reshape:0\", shape=(1, 10000, 1), dtype=float64)\n",
      "DEBUG, samples_normed Tensor(\"Gauss_15/integrate/Gauss_3/numeric_integrate_normalization/transpose:0\", shape=(1, 1, 10000), dtype=float64)\n",
      "DEBUG, avg Tensor(\"Gauss_15/integrate/Gauss_3/numeric_integrate_normalization/expectation/Mean:0\", shape=(), dtype=float64)\n",
      "Normalized integral over whole normalization range (should be 1) 1.0000788094398196\n"
     ]
    }
   ],
   "source": [
    "integral_normalized = gauss1.integrate(limits=(-20, 20), norm_range=(-20, 20))\n",
    "integral_normalized_np = sess.run(integral_normalized)\n",
    "print(\"Normalized integral over whole normalization range (should be 1)\", integral_normalized_np)"
   ]
  },
  {
   "cell_type": "code",
   "execution_count": 50,
   "metadata": {},
   "outputs": [
    {
     "name": "stdout",
     "output_type": "stream",
     "text": [
      "DEBUG, sorted dims (0,)\n",
      "DEBUG, max_dims, dims frozenset({0}) (0,)\n",
      "DEBUG, self._integrals, dims defaultdict(<class 'dict'>, {frozenset({0}): {((-inf, inf),): <function _gauss_integral_from_inf_to_inf at 0x7f9d386fd158>}}) frozenset({0})\n",
      "DEBUG:, tuple ((-20, 20),)\n",
      "DEBUG: lower, upper ((-20,),) ((20,),)\n",
      "DEBUG: lower, upper Tensor(\"Gauss_18/integrate/Const:0\", shape=(1, 1), dtype=float64) Tensor(\"Gauss_18/integrate/Const_1:0\", shape=(1, 1), dtype=float64)\n",
      "DEBUG, n_dims 1 (0,) 10000 <dtype: 'float64'>\n",
      "DEBUG, mc_sampler <function sample_halton_sequence at 0x7f9d2a06eb70>\n",
      "DEBUG, samples_normed Tensor(\"Gauss_18/integrate/Reshape:0\", shape=(1, 10000, 1), dtype=float64)\n",
      "DEBUG, samples_normed Tensor(\"Gauss_18/integrate/transpose:0\", shape=(1, 1, 10000), dtype=float64)\n",
      "DEBUG, self._integrals, dims defaultdict(<class 'dict'>, {frozenset({0}): {((-inf, inf),): <function _gauss_integral_from_inf_to_inf at 0x7f9d386fd158>}}) frozenset({0})\n",
      "DEBUG:, tuple ((-20, 20),)\n",
      "DEBUG: lower, upper ((-20,),) ((20,),)\n",
      "DEBUG: lower, upper Tensor(\"Gauss_18/integrate/Gauss_1/numeric_integrate/Const:0\", shape=(1, 1), dtype=float64) Tensor(\"Gauss_18/integrate/Gauss_1/numeric_integrate/Const_1:0\", shape=(1, 1), dtype=float64)\n",
      "DEBUG, n_dims 1 (0,) 10000 <dtype: 'float64'>\n",
      "DEBUG, mc_sampler <function sample_halton_sequence at 0x7f9d2a06eb70>\n",
      "DEBUG, samples_normed Tensor(\"Gauss_18/integrate/Gauss_1/numeric_integrate/Reshape:0\", shape=(1, 10000, 1), dtype=float64)\n",
      "DEBUG, samples_normed Tensor(\"Gauss_18/integrate/Gauss_1/numeric_integrate/transpose:0\", shape=(1, 1, 10000), dtype=float64)\n",
      "DEBUG, avg Tensor(\"Gauss_18/integrate/Gauss_1/numeric_integrate/expectation/Mean:0\", shape=(), dtype=float64)\n",
      "Unnormalized integral (this function IS already normalized over the whole space (coincidence)) 1.0000010042154595\n"
     ]
    }
   ],
   "source": [
    "integral_unnormalized = gauss1.integrate(limits=(-20, 20), norm_range=False)\n",
    "integral_unnormalized_np = sess.run(integral_unormalized)\n",
    "print(\"Unnormalized integral (this function IS already normalized over the whole space (coincidence))\",\n",
    "      integral_unnormalized_np)"
   ]
  },
  {
   "cell_type": "code",
   "execution_count": null,
   "metadata": {},
   "outputs": [],
   "source": [
    "integral_normalized_small = gauss1.integrate(limits=(-20, 20), norm_range=(-0.5, 1.2))\n",
    "integral_normalized_small_np = sess.run(integral_normalized_small)\n",
    "print(\"Unnormalized integral (this function IS already normalized over the whole space (coincidence))\",\n",
    "      integral_normalized_small_np)"
   ]
  }
 ],
 "metadata": {
  "kernelspec": {
   "display_name": "Python 3",
   "language": "python",
   "name": "python3"
  },
  "language_info": {
   "codemirror_mode": {
    "name": "ipython",
    "version": 3
   },
   "file_extension": ".py",
   "mimetype": "text/x-python",
   "name": "python",
   "nbconvert_exporter": "python",
   "pygments_lexer": "ipython3",
   "version": "3.6.6"
  }
 },
 "nbformat": 4,
 "nbformat_minor": 2
}
